{
 "cells": [
  {
   "cell_type": "markdown",
   "metadata": {},
   "source": [
    "# **Final Project for Numerical Analysis**\n",
    "\n",
    "----\n",
    "\n",
    "## *Analyzing efficacy of Gaussian Quadrature on Polynomial and Non-Polynomial Functions*\n",
    "\n",
    "*Note: The book used for this class was \"Numerical Analysis: The Mathematics of Scientific Computing, Kincaid and Cheney, 3rd edition\". Any reference(s) to \"the book\" refer(s) to this book.*"
   ]
  },
  {
   "cell_type": "markdown",
   "metadata": {},
   "source": [
    "Part One: Defining glaser_liu_rokhlin(), which we will refer to as $GLR()$, an algorithm which computes Gaussian Quadrature Formulas for function of $degree$ $n$ is $\\Theta(n)$ time. \n",
    "\n",
    "While $GLR()$, based on a [paper](https://apps.dtic.mil/dtic/tr/fulltext/u2/a635869.pdf) by Andreas Glaser, Xiangtao Liu, and Vladimir Rokhlin, can work with various families of orthogonal polynomials, for our purposes we modified it to work specifically for Legendre polynomials, thereby allowing us to cut out some of the code used to generalize the algorithm \"and make it work more efficiently for the Legendre polynomials."
   ]
  },
  {
   "cell_type": "code",
   "execution_count": 2,
   "metadata": {},
   "outputs": [
    {
     "data": {
      "text/plain": [
       "glaser_liu_rokhlin_gauss_nodes (generic function with 2 methods)"
      ]
     },
     "execution_count": 2,
     "metadata": {},
     "output_type": "execute_result"
    }
   ],
   "source": [
    "using Polynomials, SpecialPolynomials, MTH229, Plots\n",
    "\n",
    "function newton(p, x0)\n",
    "    maxsteps = 25\n",
    "    dp  = derivative(p)\n",
    "    while maxsteps > 0\n",
    "        px, dpx = p(x0),  dp(x0) #orthogonal_polyval_derivative(p, x0)\n",
    "        Δ = px/dpx\n",
    "        isnan(Δ) && return (x0, dpx)\n",
    "        if isinf(Δ)\n",
    "            x0 += sqrt(eps())  # give a nudge from minimum or maximum\n",
    "            continue\n",
    "        end\n",
    "        x0 -= Δ\n",
    "        min(abs(Δ),abs(px)) <= sqrt(eps())/100 && return  x0, dp(x0)# orthogonal_polyval_derivative(p, x0)[2]\n",
    "        maxsteps -= 1\n",
    "    end\n",
    "    @warn \"Newton's method did not converge from $x0\"\n",
    "    NaN\n",
    "end\n",
    "function RK(t0,  x0, F, h, n)\n",
    "    k0 = h*F(t0,x0)\n",
    "    local x1\n",
    "    for i in 1:n\n",
    "        t1 = t0 + h\n",
    "        k1 = h * F(t0+h,x0+k0)\n",
    "        x1 = x0 + 1/2 * (k0+k1)\n",
    "        t0, x0, k0 = t1, x1, k1\n",
    "    end\n",
    "    x1\n",
    "end\n",
    "\n",
    "function prufer(π)\n",
    "    n = Polynomials.degree(π)\n",
    "    Π = typeof(π)\n",
    "    (θ, x) -> begin\n",
    "        dom = domain(Π)\n",
    "        a,b,c,d, e = SpecialPolynomials.abcde(Π)\n",
    "        p =  a*x^2 + b*x  +  c\n",
    "        dp = 2a*x + b\n",
    "        q = d*x +  e\n",
    "        dq = d\n",
    "        r  = -(a*n*(n-1)  + d*n)\n",
    "        dr = 0\n",
    "        -inv(sqrt(r/p) + (dr*p - dp*r + 2r*q)/(2r*p) * sin(2θ)/2)\n",
    "    end\n",
    "end\n",
    "\n",
    "\n",
    "function glaser_liu_rokhlin_gauss_nodes(π, x0=0;\n",
    "                                        m=10)\n",
    "    symmetry = true\n",
    "    n = Polynomials.degree(π)\n",
    "    F = prufer(π)\n",
    "    x = float(x0)\n",
    "\n",
    "    # step 1 to get initial might be newton or might be RK\n",
    "    if symmetry && iseven(n)\n",
    "        # a max at π(x0)\n",
    "        x = RK(pi/2, x0, F, -(pi/2)/m, m)\n",
    "    end\n",
    "    \n",
    "    x1, dπ1 = newton(π, x)\n",
    "    rts, dπrts = [x1], [dπ1]\n",
    "    N = symmetry ? div(n+1,2) : n\n",
    "    for i in 2:N\n",
    "        xx = RK(pi/2, rts[end], F, -pi/m, m)\n",
    "        x, dπx = newton(π, xx)\n",
    "        push!(rts, x)\n",
    "        push!(dπrts, dπx)\n",
    "    end\n",
    "    if symmetry\n",
    "        if iseven(n)\n",
    "            rts = vcat(-reverse(rts), rts)\n",
    "            dπrts = vcat(-reverse(dπrts), dπrts)\n",
    "        else\n",
    "            rts = vcat(-reverse(rts[2:end]), rts)\n",
    "            dπrts = vcat(-reverse(dπrts[2:end]), dπrts)            \n",
    "        end\n",
    "    end\n",
    "    # get weights \n",
    "    weights = @. (1 * 2)/(1-(rts)^2)/((Polynomials.derivative(π)(rts))^2)\n",
    "    rts,  weights\n",
    "end\n",
    "\n",
    "#a1, a2 = glaser_liu_rokhlin_gauss_nodes(basis(Legendre, 6))\n",
    "#@show a1, a2\n",
    "#plot(a1, a2)\n",
    "# x = variable()\n",
    "# xs = range(-pi/2, pi/2, length = 200)\n",
    "# ys =x.(xs)\n",
    "# plot(xs, (ys))"
   ]
  },
  {
   "cell_type": "markdown",
   "metadata": {},
   "source": [
    "### Demonstrating 7.3: Theorem 1\n",
    "#### In Chapter 7.3 of the book, we see the following theorem:\n",
    "*Let w be a positive weight frunction and let q be a nonzero polynomial of degree $n+1$ that is w-* **orthogonal** *to $\\Pi_{n}$ in the sense that for any p in $\\Pi_{n}$, we have</br>*  $\\int\\limits_a^b{q(x)p(x)w(x)dx}$ = 0\n",
    "    *If* $x_{0},x_{1}, ... ,x_{n}$ *are the zeros of q, then the quadrature formula,* $\\int\\limits_a^b{f(x)w(x)dx}$ $\\approx$ $\\sum_{i=0}^{n}A_i f(x_i)$*, with coefficients given by*  $A_i = \\int\\limits_a^b{w(x) \\Pi_{j=0}^{n}\\frac{x-x_j}{x_i-x_j}dx}$ will be exact for all ${f ∈\\Pi_{2n+1}}$ \n",
    "\n",
    "Here we demonstrate this theorem, the '$n$'s are shifted over however, so the quadrature formula will be \"exact\" up to but not including $2n$ (I put \"exact\" in quotes because techinically it is only as precise up to 10/20 decimal places etc.): "
   ]
  },
  {
   "cell_type": "code",
   "execution_count": 21,
   "metadata": {
    "scrolled": true
   },
   "outputs": [
    {
     "name": "stdout",
     "output_type": "stream",
     "text": [
      "(i, q, qq, q - qq) = (25, 0.0, 3.469446951953614e-18, -3.469446951953614e-18)\n",
      "(i, q, qq, q - qq) = (26, 2.1502659097727417e-9, 3.469446951953614e-18, 2.1502659063032947e-9)\n",
      "(i, q, qq, q - qq) = (27, 0.0, 3.469446951953614e-18, -3.469446951953614e-18)\n",
      "(i, q, qq, q - qq) = (28, 3.7250698081692235e-9, 3.469446951953614e-18, 3.7250698046997766e-9)\n",
      "(i, q, qq, q - qq) = (29, 0.0, 3.469446951953614e-18, -3.469446951953614e-18)\n",
      "(i, q, qq, q - qq) = (30, 1.222224386143722e-7, 3.469446951953614e-18, 1.2222243861090276e-7)\n",
      "(i, q, qq, q - qq) = (31, 0.0, 3.469446951953614e-18, -3.469446951953614e-18)\n",
      "(i, q, qq, q - qq) = (32, -1.193120625631039e-7, 3.469446951953614e-18, -1.1931206256657334e-7)\n",
      "(i, q, qq, q - qq) = (33, 0.0, 3.469446951953614e-18, -3.469446951953614e-18)\n",
      "(i, q, qq, q - qq) = (34, 8.032657222711848e-8, 3.469446951953614e-18, 8.032657222364903e-8)\n",
      "(i, q, qq, q - qq) = (35, 0.0, 3.469446951953614e-18, -3.469446951953614e-18)\n",
      "(i, q, qq, q - qq) = (36, -3.581354394566194e-5, 3.469446951953614e-18, -3.581354394566541e-5)\n",
      "(i, q, qq, q - qq) = (37, 0.0, 3.469446951953614e-18, -3.469446951953614e-18)\n",
      "(i, q, qq, q - qq) = (38, -9.689526452644204e-5, 3.469446951953614e-18, -9.689526452644551e-5)\n",
      "(i, q, qq, q - qq) = (39, 0.0, 3.469446951953614e-18, -3.469446951953614e-18)\n",
      "(i, q, qq, q - qq) = (40, -0.000943131692125232, 3.469446951953614e-18, -0.0009431316921252354)\n",
      "(i, q, qq, q - qq) = (41, 0.0, 3.469446951953614e-18, -3.469446951953614e-18)\n",
      "(i, q, qq, q - qq) = (42, 0.0003246816686442444, 3.469446951953614e-18, 0.00032468166864424094)\n",
      "(i, q, qq, q - qq) = (43, 0.0, 3.469446951953614e-18, -3.469446951953614e-18)\n",
      "(i, q, qq, q - qq) = (44, -0.013814040123165339, 3.469446951953614e-18, -0.013814040123165342)\n",
      "(i, q, qq, q - qq) = (45, 0.0, 3.469446951953614e-18, -3.469446951953614e-18)\n",
      "(i, q, qq, q - qq) = (46, -0.013606629639085016, 3.469446951953614e-18, -0.01360662963908502)\n",
      "(i, q, qq, q - qq) = (47, 0.0, 3.469446951953614e-18, -3.469446951953614e-18)\n",
      "(i, q, qq, q - qq) = (48, 0.3359592479268655, 3.469446951953614e-18, 0.3359592479268655)\n",
      "(i, q, qq, q - qq) = (49, 0.0, 3.469446951953614e-18, -3.469446951953614e-18)\n",
      "(i, q, qq, q - qq) = (50, 0.3361646127553685, 3.469446951953614e-18, 0.3361646127553685)\n"
     ]
    }
   ],
   "source": [
    "n = 25\n",
    "f(x) = x^n\n",
    "xs, ws = glaser_liu_rokhlin_gauss_nodes(basis(Legendre, n))\n",
    "for i in n:2n\n",
    "    p = basis(Legendre, i)\n",
    "    q = Polynomials.integrate(p, -1, 1)\n",
    "    qq = sum(f(x)*w for (x,w) in zip(xs, ws))\n",
    "    #@show \"On iteration \", i, \", the integral of \", p, \" from -1 to 1 is \", q, \", the approximated area is, \",  qq, \"the approximation is accurate to \", q-qq\n",
    "    @show i, q, qq, q-qq\n",
    "end\n",
    "\n",
    "#integrate(f(x), -1, 1)\n",
    "# f(x) = exp(x)\n",
    "# @show a = f(1)-f(-1)\n",
    "# xs, ws = glaser_liu_rokhlin_gauss_nodes(basis(Legendre, 9))\n",
    "# @show sum(f(x)*w for (x,w) in zip(xs, ws)) - a"
   ]
  },
  {
   "cell_type": "code",
   "execution_count": 33,
   "metadata": {},
   "outputs": [
    {
     "name": "stdout",
     "output_type": "stream",
     "text": [
      "(i, q - qq) = (7, 0.0)\n",
      "(i, q - qq) = (8, -7.979727989493313e-17)\n",
      "(i, q - qq) = (9, 0.0)\n",
      "(i, q - qq) = (10, 1.2378986724570495e-14)\n",
      "(i, q - qq) = (11, 0.0)\n",
      "(i, q - qq) = (12, -3.0482560919864454e-14)\n",
      "(i, q - qq) = (13, 0.0)\n",
      "(i, q - qq) = (14, 0.4541175607603204)\n"
     ]
    }
   ],
   "source": [
    "f(x) = x^7+x^5+x^2\n",
    "a = f(1)-f(-1)\n",
    "n=7\n",
    "xs, ws = glaser_liu_rokhlin_gauss_nodes(basis(Legendre, n))\n",
    "for i in n:(2n)\n",
    "    p = basis(Legendre, i)\n",
    "    q = Polynomials.integrate(p, -1, 1)\n",
    "    qq = sum(p(x)*w for (x,w) in zip(xs, ws))\n",
    "    @show i, q - qq\n",
    "end"
   ]
  },
  {
   "cell_type": "markdown",
   "metadata": {
    "scrolled": true
   },
   "source": [
    "### Efficacy of GLR() on Non-Polynomial Functions"
   ]
  },
  {
   "cell_type": "markdown",
   "metadata": {},
   "source": [
    "$GLR()$ on $f(x)=e^x$. Notice how we get accuracy to 12 decimal places using only 6 points!"
   ]
  },
  {
   "cell_type": "code",
   "execution_count": 9,
   "metadata": {},
   "outputs": [
    {
     "name": "stdout",
     "output_type": "stream",
     "text": [
      "a = f(1) - f(-1) = 2.3504023872876028\n",
      "(i, sum((f(x) * w for (x, w) = zip(xs, ws))) - a) = (1, -0.35040238728760276)\n",
      "(i, sum((f(x) * w for (x, w) = zip(xs, ws))) - a) = (2, -0.007706299377872483)\n",
      "(i, sum((f(x) * w for (x, w) = zip(xs, ws))) - a) = (3, -6.545860759210598e-5)\n",
      "(i, sum((f(x) * w for (x, w) = zip(xs, ws))) - a) = (4, -2.9513122612456755e-7)\n",
      "(i, sum((f(x) * w for (x, w) = zip(xs, ws))) - a) = (5, -8.247775795666712e-10)\n",
      "(i, sum((f(x) * w for (x, w) = zip(xs, ws))) - a) = (6, -1.568078999980571e-12)\n",
      "(i, sum((f(x) * w for (x, w) = zip(xs, ws))) - a) = (7, -1.7763568394002505e-15)\n",
      "(i, sum((f(x) * w for (x, w) = zip(xs, ws))) - a) = (8, 4.440892098500626e-16)\n",
      "(i, sum((f(x) * w for (x, w) = zip(xs, ws))) - a) = (9, 1.3322676295501878e-15)\n",
      "(i, sum((f(x) * w for (x, w) = zip(xs, ws))) - a) = (10, 0.0)\n",
      "(i, sum((f(x) * w for (x, w) = zip(xs, ws))) - a) = (11, 1.7763568394002505e-15)\n",
      "(i, sum((f(x) * w for (x, w) = zip(xs, ws))) - a) = (12, 8.881784197001252e-16)\n"
     ]
    }
   ],
   "source": [
    "f(x) = exp(x)\n",
    "MTH229.integrate(f, -1, 1)\n",
    "@show a = f(1)-f(-1)\n",
    "for i in 1:12\n",
    "    xs, ws = glaser_liu_rokhlin_gauss_nodes(basis(Legendre, i))\n",
    "    @show i, sum(f(x)*w for (x,w) in zip(xs, ws)) - a\n",
    "end"
   ]
  },
  {
   "cell_type": "markdown",
   "metadata": {},
   "source": [
    "Using a calculator, we can easily find $\\int\\limits_{-1}^1{cos(x)dx}$ $\\approx 1.682941969615793 $. But we find that same result without integrating! And we used only 12 points! (okay, it's not that crazy, but still pretty cool)"
   ]
  },
  {
   "cell_type": "code",
   "execution_count": 14,
   "metadata": {},
   "outputs": [
    {
     "name": "stdout",
     "output_type": "stream",
     "text": [
      "(i, q, q - a) = (1, 2.0, 2.0)\n",
      "(i, q, q - a) = (2, 1.675823655389986, 1.675823655389986)\n",
      "(i, q, q - a) = (3, 1.6830035477269165, 1.6830035477269165)\n",
      "(i, q, q - a) = (4, 1.6829416886959734, 1.6829416886959734)\n",
      "(i, q, q - a) = (5, 1.682941970407192, 1.682941970407192)\n",
      "(i, q, q - a) = (6, 1.6829419696142796, 1.6829419696142796)\n",
      "(i, q, q - a) = (7, 1.6829419696157952, 1.6829419696157952)\n",
      "(i, q, q - a) = (8, 1.6829419696157928, 1.6829419696157928)\n",
      "(i, q, q - a) = (9, 1.6829419696157937, 1.6829419696157937)\n",
      "(i, q, q - a) = (10, 1.6829419696157928, 1.6829419696157928)\n",
      "(i, q, q - a) = (11, 1.682941969615794, 1.682941969615794)\n",
      "(i, q, q - a) = (12, 1.682941969615793, 1.682941969615793)\n"
     ]
    }
   ],
   "source": [
    "f(x) = cos(x)\n",
    "a = f(1)-f(-1)\n",
    "for i in 1:12\n",
    "    xs, ws = glaser_liu_rokhlin_gauss_nodes(basis(Legendre, i))\n",
    "    q = sum(f(x)*w for (x,w) in zip(xs, ws))\n",
    "    @show i, q, q - a\n",
    "end"
   ]
  },
  {
   "cell_type": "markdown",
   "metadata": {},
   "source": [
    "Using a calculator, we can easily find $\\int\\limits_{-1}^1{cos(x)^2+sin(x) dx}$ comes out to $\\approx{1.454648713412841}$. But we find that same result without integrating! And we used only 8 points!"
   ]
  },
  {
   "cell_type": "code",
   "execution_count": 20,
   "metadata": {
    "scrolled": true
   },
   "outputs": [
    {
     "name": "stdout",
     "output_type": "stream",
     "text": [
      "(i, q, q - a) = (1, 2.0, 0.317058030384207)\n",
      "(i, q, q - a) = (2, 1.404192461982327, -0.27874950763346606)\n",
      "(i, q, q - a) = (3, 1.4564451711321824, -0.2264967984836106)\n",
      "(i, q, q - a) = (4, 1.4546153354356182, -0.22832663418017485)\n",
      "(i, q, q - a) = (5, 1.454649094168245, -0.22829287544754795)\n",
      "(i, q, q - a) = (6, 1.4546487104739119, -0.22829325914188114)\n",
      "(i, q, q - a) = (7, 1.4546487134292159, -0.22829325618657714)\n",
      "(i, q, q - a) = (8, 1.454648713412772, -0.2282932562030211)\n",
      "(i, q, q - a) = (9, 1.4546487134128414, -0.2282932562029516)\n",
      "(i, q, q - a) = (10, 1.4546487134128407, -0.22829325620295227)\n",
      "(i, q, q - a) = (11, 1.4546487134128419, -0.22829325620295116)\n",
      "(i, q, q - a) = (12, 1.4546487134128407, -0.22829325620295227)\n",
      "(i, q, q - a) = (13, 1.4546487134128405, -0.2282932562029525)\n",
      "(i, q, q - a) = (14, 1.45464871341284, -0.22829325620295293)\n",
      "(i, q, q - a) = (15, 1.4546487134128407, -0.22829325620295227)\n"
     ]
    }
   ],
   "source": [
    "f(x) = cos(x)^2 + sin(x)\n",
    "a = f(1)-f(-1)\n",
    "for i in 1:15\n",
    "    xs, ws = glaser_liu_rokhlin_gauss_nodes(basis(Legendre, i))\n",
    "    q = sum(f(x)*w for (x,w) in zip(xs, ws))\n",
    "    @show i, q, q - a\n",
    "end"
   ]
  },
  {
   "cell_type": "markdown",
   "metadata": {},
   "source": [
    "Now if we put some asymptotes at $x = -1, 1$, then we see that $GLR()$ using using a Legendre basis won't gut us anywhere, as the behavior of $Legendre(n)$ polynomials is such that as we get closer to $-1$ and $1$ we get more and more roots as n gets bigger, this makes it impossible to choose our points \"wisely\". Such is the case with the following function\n",
    "Here we try it on a function $f(x)=\\sqrt{1/(1-x^2)}$"
   ]
  },
  {
   "cell_type": "code",
   "execution_count": 3,
   "metadata": {},
   "outputs": [
    {
     "name": "stdout",
     "output_type": "stream",
     "text": [
      "a = f(bound) - f(-bound) = 0.0\n",
      "(i, sum((f(x) * w for (x, w) = zip(xs, ws))) - a) = (1050, 3.139934985621325)\n",
      "(i, sum((f(x) * w for (x, w) = zip(xs, ws))) - a) = (1051, 3.1399365621006363)\n",
      "(i, sum((f(x) * w for (x, w) = zip(xs, ws))) - a) = (1052, 3.1399381355841363)\n",
      "(i, sum((f(x) * w for (x, w) = zip(xs, ws))) - a) = (1053, 3.139939706080358)\n",
      "(i, sum((f(x) * w for (x, w) = zip(xs, ws))) - a) = (1054, 3.1399412735979624)\n",
      "(i, sum((f(x) * w for (x, w) = zip(xs, ws))) - a) = (1055, 3.13994283814556)\n"
     ]
    }
   ],
   "source": [
    "f(x) = 1/ sqrt(1-x^2)\n",
    "bound = 1/3+1/3+1/3.1\n",
    "MTH229.integrate(f, -bound, bound)\n",
    "@show a = f(bound)-f(-bound)\n",
    "n = 1050\n",
    "for i in n:n+5\n",
    "    xs, ws = glaser_liu_rokhlin_gauss_nodes(basis(Legendre, i))\n",
    "    @show i, sum(f(x)*w for (x,w) in zip(xs, ws)) - a\n",
    "end"
   ]
  },
  {
   "cell_type": "code",
   "execution_count": null,
   "metadata": {},
   "outputs": [],
   "source": []
  }
 ],
 "metadata": {
  "kernelspec": {
   "display_name": "Julia 1.4.2",
   "language": "julia",
   "name": "julia-1.4"
  },
  "language_info": {
   "file_extension": ".jl",
   "mimetype": "application/julia",
   "name": "julia",
   "version": "1.4.2"
  }
 },
 "nbformat": 4,
 "nbformat_minor": 2
}
