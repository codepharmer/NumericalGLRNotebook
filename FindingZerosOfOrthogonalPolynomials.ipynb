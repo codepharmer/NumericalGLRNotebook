{
 "cells": [
  {
   "cell_type": "markdown",
   "metadata": {},
   "source": [
    "# **Final Project for Numerical Analysis**\n",
    "\n",
    "----\n",
    "\n",
    "## *Applications of Gaussian Quadrature on Polynomial and Non-Polynomial Functions*\n",
    "\n",
    "*Note: The book used for this class was \"Numerical Analysis: The Mathematics of Scientific Computing, Kincaid and Cheney, 3rd edition\". Any references to \"the book\" refer to this book.*"
   ]
  },
  {
   "cell_type": "markdown",
   "metadata": {},
   "source": [
    "Part One: Defining glaser_liu_rokhlin(), which we will refer to as $GLR()$, an algorithm which computes Gaussian Quadrature Formulas for function of $degree$ $n$ is $\\Theta(n)$ time. \n",
    "\n",
    "While $GLR()$, based on a [paper](https://apps.dtic.mil/dtic/tr/fulltext/u2/a635869.pdf) by Andreas Glaser, Xiangtao Liu, and Vladimir Rokhlin, can work with various families of orthogonal polynomials, for our purposes we modified it to work specifically for Legendre polynomials, thereby allowing us to cut out some of the code used to generalize the algorithm and make it work more efficiently for the Legendre polynomials.\n",
    "\n",
    "### Warning! This notebook is not meant to teach someone without any background the subject of Gaussian Quadrature. It is merely a demonstration for those already involved in the subject who want to see how they can use it hands on. Proceed with caution!"
   ]
  },
  {
   "cell_type": "code",
   "execution_count": 2,
   "metadata": {},
   "outputs": [
    {
     "data": {
      "text/plain": [
       "glaser_liu_rokhlin_gauss_nodes (generic function with 2 methods)"
      ]
     },
     "execution_count": 2,
     "metadata": {},
     "output_type": "execute_result"
    }
   ],
   "source": [
    "using Polynomials, SpecialPolynomials, MTH229, Plots\n",
    "\n",
    "function newton(p, x0)\n",
    "    maxsteps = 25\n",
    "    dp  = derivative(p)\n",
    "    while maxsteps > 0\n",
    "        px, dpx = p(x0),  dp(x0) #orthogonal_polyval_derivative(p, x0)\n",
    "        Δ = px/dpx\n",
    "        isnan(Δ) && return (x0, dpx)\n",
    "        if isinf(Δ)\n",
    "            x0 += sqrt(eps())  # give a nudge from minimum or maximum\n",
    "            continue\n",
    "        end\n",
    "        x0 -= Δ\n",
    "        min(abs(Δ),abs(px)) <= sqrt(eps())/100 && return  x0, dp(x0)# orthogonal_polyval_derivative(p, x0)[2]\n",
    "        maxsteps -= 1\n",
    "    end\n",
    "    @warn \"Newton's method did not converge from $x0\"\n",
    "    NaN\n",
    "end\n",
    "function RK(t0,  x0, F, h, n)\n",
    "    k0 = h*F(t0,x0)\n",
    "    local x1\n",
    "    for i in 1:n\n",
    "        t1 = t0 + h\n",
    "        k1 = h * F(t0+h,x0+k0)\n",
    "        x1 = x0 + 1/2 * (k0+k1)\n",
    "        t0, x0, k0 = t1, x1, k1\n",
    "    end\n",
    "    x1\n",
    "end\n",
    "\n",
    "function prufer(π)\n",
    "    n = Polynomials.degree(π)\n",
    "    Π = typeof(π)\n",
    "    (θ, x) -> begin\n",
    "        dom = domain(Π)\n",
    "        a,b,c,d, e = SpecialPolynomials.abcde(Π)\n",
    "        p =  a*x^2 + b*x  +  c\n",
    "        dp = 2a*x + b\n",
    "        q = d*x +  e\n",
    "        dq = d\n",
    "        r  = -(a*n*(n-1)  + d*n)\n",
    "        dr = 0\n",
    "        -inv(sqrt(r/p) + (dr*p - dp*r + 2r*q)/(2r*p) * sin(2θ)/2)\n",
    "    end\n",
    "end\n",
    "\n",
    "\n",
    "function glaser_liu_rokhlin_gauss_nodes(π, x0=0;\n",
    "                                        m=10)\n",
    "    symmetry = true\n",
    "    n = Polynomials.degree(π)\n",
    "    F = prufer(π)\n",
    "    x = float(x0)\n",
    "\n",
    "    # step 1 to get initial might be newton or might be RK\n",
    "    if symmetry && iseven(n)\n",
    "        # a max at π(x0)\n",
    "        x = RK(pi/2, x0, F, -(pi/2)/m, m)\n",
    "    end\n",
    "    \n",
    "    x1, dπ1 = newton(π, x)\n",
    "    rts, dπrts = [x1], [dπ1]\n",
    "    N = symmetry ? div(n+1,2) : n\n",
    "    for i in 2:N\n",
    "        xx = RK(pi/2, rts[end], F, -pi/m, m)\n",
    "        x, dπx = newton(π, xx)\n",
    "        push!(rts, x)\n",
    "        push!(dπrts, dπx)\n",
    "    end\n",
    "    if symmetry\n",
    "        if iseven(n)\n",
    "            rts = vcat(-reverse(rts), rts)\n",
    "            dπrts = vcat(-reverse(dπrts), dπrts)\n",
    "        else\n",
    "            rts = vcat(-reverse(rts[2:end]), rts)\n",
    "            dπrts = vcat(-reverse(dπrts[2:end]), dπrts)            \n",
    "        end\n",
    "    end\n",
    "    # get weights \n",
    "    weights = @. (1 * 2)/(1-(rts)^2)/((Polynomials.derivative(π)(rts))^2)\n",
    "    rts,  weights\n",
    "end\n",
    "\n",
    "#a1, a2 = glaser_liu_rokhlin_gauss_nodes(basis(Legendre, 6))\n",
    "#@show a1, a2\n",
    "#plot(a1, a2)\n",
    "# x = variable()\n",
    "# xs = range(-pi/2, pi/2, length = 200)\n",
    "# ys =x.(xs)\n",
    "# plot(xs, (ys))"
   ]
  },
  {
   "cell_type": "markdown",
   "metadata": {},
   "source": [
    "### Demonstrating 7.3: Theorem 1\n",
    "#### In Chapter 7.3 of the book, we see the following theorem:\n",
    "*Let w be a positive weight frunction and let q be a nonzero polynomial of degree $n+1$ that is w-* **orthogonal** *to $\\Pi_{n}$ in the sense that for any p in $\\Pi_{n}$, we have</br>*  $\\int\\limits_a^b{q(x)p(x)w(x)dx}$ = 0\n",
    "    *If* $x_{0},x_{1}, ... ,x_{n}$ *are the zeros of q, then the quadrature formula,* $\\int\\limits_a^b{f(x)w(x)dx}$ $\\approx$ $\\sum_{i=0}^{n}A_i f(x_i)$*, with coefficients given by*  $A_i = \\int\\limits_a^b{w(x) \\Pi_{j=0}^{n}\\frac{x-x_j}{x_i-x_j}dx}$ will be exact for all ${f ∈\\Pi_{2n+1}}$ \n",
    "\n",
    "Using a for-loop we can see that the nodes and weights vectors from $GLR()$ to effectively approximate integrals, with better than $1.0*10^{10}$ precision, for polynomials of degree $i$  such that $0 \\leq i<2n$. This is demonstrated below:"
   ]
  },
  {
   "cell_type": "code",
   "execution_count": 5,
   "metadata": {
    "scrolled": true
   },
   "outputs": [
    {
     "name": "stdout",
     "output_type": "stream",
     "text": [
      "(i, q, qq, q - qq) = (10, 1.2545520178264269e-14, 5.117341355252152e-17, 1.2494346764711747e-14)\n",
      "(i, q, qq, q - qq) = (11, 0.0, 2.6020852139652106e-18, -2.6020852139652106e-18)\n",
      "(i, q, qq, q - qq) = (12, -3.019806626980426e-14, 5.204170427930421e-18, -3.020327044023219e-14)\n",
      "(i, q, qq, q - qq) = (13, 0.0, 0.0, 0.0)\n",
      "(i, q, qq, q - qq) = (14, -5.969669203409467e-13, -3.469446951953614e-18, -5.969634508939947e-13)\n",
      "(i, q, qq, q - qq) = (15, 0.0, 0.0, 0.0)\n",
      "(i, q, qq, q - qq) = (16, -3.552713678800501e-15, 2.7755575615628914e-16, -3.83026943495679e-15)\n",
      "(i, q, qq, q - qq) = (17, 0.0, -6.938893903907228e-18, 6.938893903907228e-18)\n",
      "(i, q, qq, q - qq) = (18, 1.8189894035458565e-12, 1.8735013540549517e-16, 1.818802053410451e-12)\n",
      "(i, q, qq, q - qq) = (19, 0.0, -1.3877787807814457e-17, 1.3877787807814457e-17)\n",
      "(i, q, qq, q - qq) = (20, -5.831785054866145e-11, -0.3846001356520965, 0.38460013559377865)\n"
     ]
    }
   ],
   "source": [
    "n = 10\n",
    "xs, ws = glaser_liu_rokhlin_gauss_nodes(basis(Legendre, n))\n",
    "for i in n:2n\n",
    "    p = basis(Legendre, i)\n",
    "    q = Polynomials.integrate(p, -1, 1)\n",
    "    qq = sum(p(x)*w for (x,w) in zip(xs, ws))\n",
    "    @show i, q, qq, q-qq\n",
    "end"
   ]
  },
  {
   "cell_type": "markdown",
   "metadata": {
    "scrolled": true
   },
   "source": [
    "### Efficacy of GLR() on Non-Polynomial Functions"
   ]
  },
  {
   "cell_type": "markdown",
   "metadata": {},
   "source": [
    "Observe $GLR()$ on $f(x)=e^x$. Notice how we get accuracy to 12 decimal places using only 6 points!"
   ]
  },
  {
   "cell_type": "code",
   "execution_count": 9,
   "metadata": {},
   "outputs": [
    {
     "name": "stdout",
     "output_type": "stream",
     "text": [
      "a = f(1) - f(-1) = 2.3504023872876028\n",
      "(i, sum((f(x) * w for (x, w) = zip(xs, ws))) - a) = (1, -0.35040238728760276)\n",
      "(i, sum((f(x) * w for (x, w) = zip(xs, ws))) - a) = (2, -0.007706299377872483)\n",
      "(i, sum((f(x) * w for (x, w) = zip(xs, ws))) - a) = (3, -6.545860759210598e-5)\n",
      "(i, sum((f(x) * w for (x, w) = zip(xs, ws))) - a) = (4, -2.9513122612456755e-7)\n",
      "(i, sum((f(x) * w for (x, w) = zip(xs, ws))) - a) = (5, -8.247775795666712e-10)\n",
      "(i, sum((f(x) * w for (x, w) = zip(xs, ws))) - a) = (6, -1.568078999980571e-12)\n",
      "(i, sum((f(x) * w for (x, w) = zip(xs, ws))) - a) = (7, -1.7763568394002505e-15)\n",
      "(i, sum((f(x) * w for (x, w) = zip(xs, ws))) - a) = (8, 4.440892098500626e-16)\n",
      "(i, sum((f(x) * w for (x, w) = zip(xs, ws))) - a) = (9, 1.3322676295501878e-15)\n",
      "(i, sum((f(x) * w for (x, w) = zip(xs, ws))) - a) = (10, 0.0)\n",
      "(i, sum((f(x) * w for (x, w) = zip(xs, ws))) - a) = (11, 1.7763568394002505e-15)\n",
      "(i, sum((f(x) * w for (x, w) = zip(xs, ws))) - a) = (12, 8.881784197001252e-16)\n"
     ]
    }
   ],
   "source": [
    "f(x) = exp(x)\n",
    "MTH229.integrate(f, -1, 1)\n",
    "@show a = f(1)-f(-1)\n",
    "for i in 1:12\n",
    "    xs, ws = glaser_liu_rokhlin_gauss_nodes(basis(Legendre, i))\n",
    "    @show i, sum(f(x)*w for (x,w) in zip(xs, ws)) - a\n",
    "end"
   ]
  },
  {
   "cell_type": "markdown",
   "metadata": {},
   "source": [
    "Using a calculator, we can easily find $\\int\\limits_{-1}^1{cos(x)dx}$ $\\approx 1.682941969615793 $. But here we find that same result without integrating! And we use only 12 points!"
   ]
  },
  {
   "cell_type": "code",
   "execution_count": 14,
   "metadata": {},
   "outputs": [
    {
     "name": "stdout",
     "output_type": "stream",
     "text": [
      "(i, q, q - a) = (1, 2.0, 2.0)\n",
      "(i, q, q - a) = (2, 1.675823655389986, 1.675823655389986)\n",
      "(i, q, q - a) = (3, 1.6830035477269165, 1.6830035477269165)\n",
      "(i, q, q - a) = (4, 1.6829416886959734, 1.6829416886959734)\n",
      "(i, q, q - a) = (5, 1.682941970407192, 1.682941970407192)\n",
      "(i, q, q - a) = (6, 1.6829419696142796, 1.6829419696142796)\n",
      "(i, q, q - a) = (7, 1.6829419696157952, 1.6829419696157952)\n",
      "(i, q, q - a) = (8, 1.6829419696157928, 1.6829419696157928)\n",
      "(i, q, q - a) = (9, 1.6829419696157937, 1.6829419696157937)\n",
      "(i, q, q - a) = (10, 1.6829419696157928, 1.6829419696157928)\n",
      "(i, q, q - a) = (11, 1.682941969615794, 1.682941969615794)\n",
      "(i, q, q - a) = (12, 1.682941969615793, 1.682941969615793)\n"
     ]
    }
   ],
   "source": [
    "f(x) = cos(x)\n",
    "a = f(1)-f(-1)\n",
    "for i in 1:12\n",
    "    xs, ws = glaser_liu_rokhlin_gauss_nodes(basis(Legendre, i))\n",
    "    q = sum(f(x)*w for (x,w) in zip(xs, ws))\n",
    "    @show i, q, q - a\n",
    "end"
   ]
  },
  {
   "cell_type": "markdown",
   "metadata": {},
   "source": [
    "Using a calculator, we can easily find $\\int\\limits_{-1}^1{cos(x)^2+sin(x) dx}$ comes out to $\\approx{1.454648713412841}$. But here we find that same result without integrating! And we used only 8 points!"
   ]
  },
  {
   "cell_type": "code",
   "execution_count": 20,
   "metadata": {
    "scrolled": true
   },
   "outputs": [
    {
     "name": "stdout",
     "output_type": "stream",
     "text": [
      "(i, q, q - a) = (1, 2.0, 0.317058030384207)\n",
      "(i, q, q - a) = (2, 1.404192461982327, -0.27874950763346606)\n",
      "(i, q, q - a) = (3, 1.4564451711321824, -0.2264967984836106)\n",
      "(i, q, q - a) = (4, 1.4546153354356182, -0.22832663418017485)\n",
      "(i, q, q - a) = (5, 1.454649094168245, -0.22829287544754795)\n",
      "(i, q, q - a) = (6, 1.4546487104739119, -0.22829325914188114)\n",
      "(i, q, q - a) = (7, 1.4546487134292159, -0.22829325618657714)\n",
      "(i, q, q - a) = (8, 1.454648713412772, -0.2282932562030211)\n",
      "(i, q, q - a) = (9, 1.4546487134128414, -0.2282932562029516)\n",
      "(i, q, q - a) = (10, 1.4546487134128407, -0.22829325620295227)\n",
      "(i, q, q - a) = (11, 1.4546487134128419, -0.22829325620295116)\n",
      "(i, q, q - a) = (12, 1.4546487134128407, -0.22829325620295227)\n",
      "(i, q, q - a) = (13, 1.4546487134128405, -0.2282932562029525)\n",
      "(i, q, q - a) = (14, 1.45464871341284, -0.22829325620295293)\n",
      "(i, q, q - a) = (15, 1.4546487134128407, -0.22829325620295227)\n"
     ]
    }
   ],
   "source": [
    "f(x) = cos(x)^2 + sin(x)\n",
    "a = f(1)-f(-1)\n",
    "for i in 1:15\n",
    "    xs, ws = glaser_liu_rokhlin_gauss_nodes(basis(Legendre, i))\n",
    "    q = sum(f(x)*w for (x,w) in zip(xs, ws))\n",
    "    @show i, q, q - a\n",
    "end"
   ]
  },
  {
   "cell_type": "markdown",
   "metadata": {},
   "source": [
    "Now, if we put some asymptotes at $x = -1, 1$, then we see that $GLR()$, using using a Legendre basis, won't get us anywhere, as the behavior of $Legendre(n)$ polynomials is such that as we get closer to $-1$ and $1$ we get more and more roots as n gets bigger, this makes it impossible to choose our points \"wisely\". We find such behavior on the graph of $f(x)=\\sqrt{1/(1-x^2)}$. Below can see that $\\displaystyle{\\lim_{x \\to -1,  1}} f(x) = \\infty $:\n",
    "\n"
   ]
  },
  {
   "cell_type": "code",
   "execution_count": 18,
   "metadata": {
    "scrolled": false
   },
   "outputs": [
    {
     "data": {
      "image/svg+xml": [
       "<?xml version=\"1.0\" encoding=\"utf-8\"?>\n",
       "<svg xmlns=\"http://www.w3.org/2000/svg\" xmlns:xlink=\"http://www.w3.org/1999/xlink\" width=\"600\" height=\"400\" viewBox=\"0 0 2400 1600\">\n",
       "<defs>\n",
       "  <clipPath id=\"clip060\">\n",
       "    <rect x=\"0\" y=\"0\" width=\"2400\" height=\"1600\"/>\n",
       "  </clipPath>\n",
       "</defs>\n",
       "<path clip-path=\"url(#clip060)\" d=\"\n",
       "M0 1600 L2400 1600 L2400 0 L0 0  Z\n",
       "  \" fill=\"#ffffff\" fill-rule=\"evenodd\" fill-opacity=\"1\"/>\n",
       "<defs>\n",
       "  <clipPath id=\"clip061\">\n",
       "    <rect x=\"480\" y=\"0\" width=\"1681\" height=\"1600\"/>\n",
       "  </clipPath>\n",
       "</defs>\n",
       "<path clip-path=\"url(#clip060)\" d=\"\n",
       "M139.191 1486.45 L2352.76 1486.45 L2352.76 47.2441 L139.191 47.2441  Z\n",
       "  \" fill=\"#ffffff\" fill-rule=\"evenodd\" fill-opacity=\"1\"/>\n",
       "<defs>\n",
       "  <clipPath id=\"clip062\">\n",
       "    <rect x=\"139\" y=\"47\" width=\"2215\" height=\"1440\"/>\n",
       "  </clipPath>\n",
       "</defs>\n",
       "<polyline clip-path=\"url(#clip062)\" style=\"stroke:#000000; stroke-width:2; stroke-opacity:0.1; fill:none\" points=\"\n",
       "  201.839,1486.45 201.839,47.2441 \n",
       "  \"/>\n",
       "<polyline clip-path=\"url(#clip062)\" style=\"stroke:#000000; stroke-width:2; stroke-opacity:0.1; fill:none\" points=\"\n",
       "  723.906,1486.45 723.906,47.2441 \n",
       "  \"/>\n",
       "<polyline clip-path=\"url(#clip062)\" style=\"stroke:#000000; stroke-width:2; stroke-opacity:0.1; fill:none\" points=\"\n",
       "  1245.97,1486.45 1245.97,47.2441 \n",
       "  \"/>\n",
       "<polyline clip-path=\"url(#clip062)\" style=\"stroke:#000000; stroke-width:2; stroke-opacity:0.1; fill:none\" points=\"\n",
       "  1768.04,1486.45 1768.04,47.2441 \n",
       "  \"/>\n",
       "<polyline clip-path=\"url(#clip062)\" style=\"stroke:#000000; stroke-width:2; stroke-opacity:0.1; fill:none\" points=\"\n",
       "  2290.11,1486.45 2290.11,47.2441 \n",
       "  \"/>\n",
       "<polyline clip-path=\"url(#clip062)\" style=\"stroke:#000000; stroke-width:2; stroke-opacity:0.1; fill:none\" points=\"\n",
       "  139.191,1469.86 2352.76,1469.86 \n",
       "  \"/>\n",
       "<polyline clip-path=\"url(#clip062)\" style=\"stroke:#000000; stroke-width:2; stroke-opacity:0.1; fill:none\" points=\"\n",
       "  139.191,1228.46 2352.76,1228.46 \n",
       "  \"/>\n",
       "<polyline clip-path=\"url(#clip062)\" style=\"stroke:#000000; stroke-width:2; stroke-opacity:0.1; fill:none\" points=\"\n",
       "  139.191,987.061 2352.76,987.061 \n",
       "  \"/>\n",
       "<polyline clip-path=\"url(#clip062)\" style=\"stroke:#000000; stroke-width:2; stroke-opacity:0.1; fill:none\" points=\"\n",
       "  139.191,745.663 2352.76,745.663 \n",
       "  \"/>\n",
       "<polyline clip-path=\"url(#clip062)\" style=\"stroke:#000000; stroke-width:2; stroke-opacity:0.1; fill:none\" points=\"\n",
       "  139.191,504.265 2352.76,504.265 \n",
       "  \"/>\n",
       "<polyline clip-path=\"url(#clip062)\" style=\"stroke:#000000; stroke-width:2; stroke-opacity:0.1; fill:none\" points=\"\n",
       "  139.191,262.868 2352.76,262.868 \n",
       "  \"/>\n",
       "<polyline clip-path=\"url(#clip060)\" style=\"stroke:#000000; stroke-width:4; stroke-opacity:1; fill:none\" points=\"\n",
       "  139.191,1486.45 2352.76,1486.45 \n",
       "  \"/>\n",
       "<polyline clip-path=\"url(#clip060)\" style=\"stroke:#000000; stroke-width:4; stroke-opacity:1; fill:none\" points=\"\n",
       "  139.191,1486.45 139.191,47.2441 \n",
       "  \"/>\n",
       "<polyline clip-path=\"url(#clip060)\" style=\"stroke:#000000; stroke-width:4; stroke-opacity:1; fill:none\" points=\"\n",
       "  201.839,1486.45 201.839,1469.18 \n",
       "  \"/>\n",
       "<polyline clip-path=\"url(#clip060)\" style=\"stroke:#000000; stroke-width:4; stroke-opacity:1; fill:none\" points=\"\n",
       "  723.906,1486.45 723.906,1469.18 \n",
       "  \"/>\n",
       "<polyline clip-path=\"url(#clip060)\" style=\"stroke:#000000; stroke-width:4; stroke-opacity:1; fill:none\" points=\"\n",
       "  1245.97,1486.45 1245.97,1469.18 \n",
       "  \"/>\n",
       "<polyline clip-path=\"url(#clip060)\" style=\"stroke:#000000; stroke-width:4; stroke-opacity:1; fill:none\" points=\"\n",
       "  1768.04,1486.45 1768.04,1469.18 \n",
       "  \"/>\n",
       "<polyline clip-path=\"url(#clip060)\" style=\"stroke:#000000; stroke-width:4; stroke-opacity:1; fill:none\" points=\"\n",
       "  2290.11,1486.45 2290.11,1469.18 \n",
       "  \"/>\n",
       "<polyline clip-path=\"url(#clip060)\" style=\"stroke:#000000; stroke-width:4; stroke-opacity:1; fill:none\" points=\"\n",
       "  139.191,1469.86 165.754,1469.86 \n",
       "  \"/>\n",
       "<polyline clip-path=\"url(#clip060)\" style=\"stroke:#000000; stroke-width:4; stroke-opacity:1; fill:none\" points=\"\n",
       "  139.191,1228.46 165.754,1228.46 \n",
       "  \"/>\n",
       "<polyline clip-path=\"url(#clip060)\" style=\"stroke:#000000; stroke-width:4; stroke-opacity:1; fill:none\" points=\"\n",
       "  139.191,987.061 165.754,987.061 \n",
       "  \"/>\n",
       "<polyline clip-path=\"url(#clip060)\" style=\"stroke:#000000; stroke-width:4; stroke-opacity:1; fill:none\" points=\"\n",
       "  139.191,745.663 165.754,745.663 \n",
       "  \"/>\n",
       "<polyline clip-path=\"url(#clip060)\" style=\"stroke:#000000; stroke-width:4; stroke-opacity:1; fill:none\" points=\"\n",
       "  139.191,504.265 165.754,504.265 \n",
       "  \"/>\n",
       "<polyline clip-path=\"url(#clip060)\" style=\"stroke:#000000; stroke-width:4; stroke-opacity:1; fill:none\" points=\"\n",
       "  139.191,262.868 165.754,262.868 \n",
       "  \"/>\n",
       "<path clip-path=\"url(#clip060)\" d=\"M 0 0 M164.223 1525.04 L176.7 1525.04 L176.7 1528.83 L164.223 1528.83 L164.223 1525.04 Z\" fill=\"#000000\" fill-rule=\"evenodd\" fill-opacity=\"1\" /><path clip-path=\"url(#clip060)\" d=\"M 0 0 M182.58 1535.98 L190.219 1535.98 L190.219 1509.62 L181.909 1511.29 L181.909 1507.03 L190.172 1505.36 L194.848 1505.36 L194.848 1535.98 L202.487 1535.98 L202.487 1539.92 L182.58 1539.92 L182.58 1535.98 Z\" fill=\"#000000\" fill-rule=\"evenodd\" fill-opacity=\"1\" /><path clip-path=\"url(#clip060)\" d=\"M 0 0 M207.557 1534.04 L212.441 1534.04 L212.441 1539.92 L207.557 1539.92 L207.557 1534.04 Z\" fill=\"#000000\" fill-rule=\"evenodd\" fill-opacity=\"1\" /><path clip-path=\"url(#clip060)\" d=\"M 0 0 M227.51 1508.44 Q223.899 1508.44 222.07 1512 Q220.265 1515.55 220.265 1522.67 Q220.265 1529.78 222.07 1533.35 Q223.899 1536.89 227.51 1536.89 Q231.144 1536.89 232.95 1533.35 Q234.779 1529.78 234.779 1522.67 Q234.779 1515.55 232.95 1512 Q231.144 1508.44 227.51 1508.44 M227.51 1504.73 Q233.32 1504.73 236.376 1509.34 Q239.455 1513.92 239.455 1522.67 Q239.455 1531.4 236.376 1536.01 Q233.32 1540.59 227.51 1540.59 Q221.7 1540.59 218.621 1536.01 Q215.566 1531.4 215.566 1522.67 Q215.566 1513.92 218.621 1509.34 Q221.7 1504.73 227.51 1504.73 Z\" fill=\"#000000\" fill-rule=\"evenodd\" fill-opacity=\"1\" /><path clip-path=\"url(#clip060)\" d=\"M 0 0 M686.175 1525.04 L698.652 1525.04 L698.652 1528.83 L686.175 1528.83 L686.175 1525.04 Z\" fill=\"#000000\" fill-rule=\"evenodd\" fill-opacity=\"1\" /><path clip-path=\"url(#clip060)\" d=\"M 0 0 M713.721 1508.44 Q710.11 1508.44 708.281 1512 Q706.476 1515.55 706.476 1522.67 Q706.476 1529.78 708.281 1533.35 Q710.11 1536.89 713.721 1536.89 Q717.355 1536.89 719.161 1533.35 Q720.99 1529.78 720.99 1522.67 Q720.99 1515.55 719.161 1512 Q717.355 1508.44 713.721 1508.44 M713.721 1504.73 Q719.531 1504.73 722.587 1509.34 Q725.665 1513.92 725.665 1522.67 Q725.665 1531.4 722.587 1536.01 Q719.531 1540.59 713.721 1540.59 Q707.911 1540.59 704.832 1536.01 Q701.777 1531.4 701.777 1522.67 Q701.777 1513.92 704.832 1509.34 Q707.911 1504.73 713.721 1504.73 Z\" fill=\"#000000\" fill-rule=\"evenodd\" fill-opacity=\"1\" /><path clip-path=\"url(#clip060)\" d=\"M 0 0 M730.735 1534.04 L735.619 1534.04 L735.619 1539.92 L730.735 1539.92 L730.735 1534.04 Z\" fill=\"#000000\" fill-rule=\"evenodd\" fill-opacity=\"1\" /><path clip-path=\"url(#clip060)\" d=\"M 0 0 M740.735 1505.36 L759.091 1505.36 L759.091 1509.3 L745.017 1509.3 L745.017 1517.77 Q746.036 1517.42 747.054 1517.26 Q748.073 1517.07 749.091 1517.07 Q754.878 1517.07 758.258 1520.24 Q761.637 1523.42 761.637 1528.83 Q761.637 1534.41 758.165 1537.51 Q754.693 1540.59 748.374 1540.59 Q746.198 1540.59 743.929 1540.22 Q741.684 1539.85 739.276 1539.11 L739.276 1534.41 Q741.36 1535.54 743.582 1536.1 Q745.804 1536.66 748.281 1536.66 Q752.286 1536.66 754.624 1534.55 Q756.962 1532.44 756.962 1528.83 Q756.962 1525.22 754.624 1523.11 Q752.286 1521.01 748.281 1521.01 Q746.406 1521.01 744.531 1521.42 Q742.679 1521.84 740.735 1522.72 L740.735 1505.36 Z\" fill=\"#000000\" fill-rule=\"evenodd\" fill-opacity=\"1\" /><path clip-path=\"url(#clip060)\" d=\"M 0 0 M1227.49 1508.44 Q1223.88 1508.44 1222.05 1512 Q1220.24 1515.55 1220.24 1522.67 Q1220.24 1529.78 1222.05 1533.35 Q1223.88 1536.89 1227.49 1536.89 Q1231.12 1536.89 1232.93 1533.35 Q1234.76 1529.78 1234.76 1522.67 Q1234.76 1515.55 1232.93 1512 Q1231.12 1508.44 1227.49 1508.44 M1227.49 1504.73 Q1233.3 1504.73 1236.36 1509.34 Q1239.43 1513.92 1239.43 1522.67 Q1239.43 1531.4 1236.36 1536.01 Q1233.3 1540.59 1227.49 1540.59 Q1221.68 1540.59 1218.6 1536.01 Q1215.55 1531.4 1215.55 1522.67 Q1215.55 1513.92 1218.6 1509.34 Q1221.68 1504.73 1227.49 1504.73 Z\" fill=\"#000000\" fill-rule=\"evenodd\" fill-opacity=\"1\" /><path clip-path=\"url(#clip060)\" d=\"M 0 0 M1244.5 1534.04 L1249.39 1534.04 L1249.39 1539.92 L1244.5 1539.92 L1244.5 1534.04 Z\" fill=\"#000000\" fill-rule=\"evenodd\" fill-opacity=\"1\" /><path clip-path=\"url(#clip060)\" d=\"M 0 0 M1264.46 1508.44 Q1260.85 1508.44 1259.02 1512 Q1257.21 1515.55 1257.21 1522.67 Q1257.21 1529.78 1259.02 1533.35 Q1260.85 1536.89 1264.46 1536.89 Q1268.09 1536.89 1269.9 1533.35 Q1271.73 1529.78 1271.73 1522.67 Q1271.73 1515.55 1269.9 1512 Q1268.09 1508.44 1264.46 1508.44 M1264.46 1504.73 Q1270.27 1504.73 1273.32 1509.34 Q1276.4 1513.92 1276.4 1522.67 Q1276.4 1531.4 1273.32 1536.01 Q1270.27 1540.59 1264.46 1540.59 Q1258.65 1540.59 1255.57 1536.01 Q1252.51 1531.4 1252.51 1522.67 Q1252.51 1513.92 1255.57 1509.34 Q1258.65 1504.73 1264.46 1504.73 Z\" fill=\"#000000\" fill-rule=\"evenodd\" fill-opacity=\"1\" /><path clip-path=\"url(#clip060)\" d=\"M 0 0 M1750.05 1508.44 Q1746.44 1508.44 1744.61 1512 Q1742.81 1515.55 1742.81 1522.67 Q1742.81 1529.78 1744.61 1533.35 Q1746.44 1536.89 1750.05 1536.89 Q1753.69 1536.89 1755.49 1533.35 Q1757.32 1529.78 1757.32 1522.67 Q1757.32 1515.55 1755.49 1512 Q1753.69 1508.44 1750.05 1508.44 M1750.05 1504.73 Q1755.86 1504.73 1758.92 1509.34 Q1762 1513.92 1762 1522.67 Q1762 1531.4 1758.92 1536.01 Q1755.86 1540.59 1750.05 1540.59 Q1744.24 1540.59 1741.17 1536.01 Q1738.11 1531.4 1738.11 1522.67 Q1738.11 1513.92 1741.17 1509.34 Q1744.24 1504.73 1750.05 1504.73 Z\" fill=\"#000000\" fill-rule=\"evenodd\" fill-opacity=\"1\" /><path clip-path=\"url(#clip060)\" d=\"M 0 0 M1767.07 1534.04 L1771.95 1534.04 L1771.95 1539.92 L1767.07 1539.92 L1767.07 1534.04 Z\" fill=\"#000000\" fill-rule=\"evenodd\" fill-opacity=\"1\" /><path clip-path=\"url(#clip060)\" d=\"M 0 0 M1777.07 1505.36 L1795.42 1505.36 L1795.42 1509.3 L1781.35 1509.3 L1781.35 1517.77 Q1782.37 1517.42 1783.39 1517.26 Q1784.41 1517.07 1785.42 1517.07 Q1791.21 1517.07 1794.59 1520.24 Q1797.97 1523.42 1797.97 1528.83 Q1797.97 1534.41 1794.5 1537.51 Q1791.03 1540.59 1784.71 1540.59 Q1782.53 1540.59 1780.26 1540.22 Q1778.02 1539.85 1775.61 1539.11 L1775.61 1534.41 Q1777.69 1535.54 1779.92 1536.1 Q1782.14 1536.66 1784.61 1536.66 Q1788.62 1536.66 1790.96 1534.55 Q1793.3 1532.44 1793.3 1528.83 Q1793.3 1525.22 1790.96 1523.11 Q1788.62 1521.01 1784.61 1521.01 Q1782.74 1521.01 1780.86 1521.42 Q1779.01 1521.84 1777.07 1522.72 L1777.07 1505.36 Z\" fill=\"#000000\" fill-rule=\"evenodd\" fill-opacity=\"1\" /><path clip-path=\"url(#clip060)\" d=\"M 0 0 M2262.01 1535.98 L2269.64 1535.98 L2269.64 1509.62 L2261.33 1511.29 L2261.33 1507.03 L2269.6 1505.36 L2274.27 1505.36 L2274.27 1535.98 L2281.91 1535.98 L2281.91 1539.92 L2262.01 1539.92 L2262.01 1535.98 Z\" fill=\"#000000\" fill-rule=\"evenodd\" fill-opacity=\"1\" /><path clip-path=\"url(#clip060)\" d=\"M 0 0 M2286.98 1534.04 L2291.87 1534.04 L2291.87 1539.92 L2286.98 1539.92 L2286.98 1534.04 Z\" fill=\"#000000\" fill-rule=\"evenodd\" fill-opacity=\"1\" /><path clip-path=\"url(#clip060)\" d=\"M 0 0 M2306.94 1508.44 Q2303.33 1508.44 2301.5 1512 Q2299.69 1515.55 2299.69 1522.67 Q2299.69 1529.78 2301.5 1533.35 Q2303.33 1536.89 2306.94 1536.89 Q2310.57 1536.89 2312.38 1533.35 Q2314.2 1529.78 2314.2 1522.67 Q2314.2 1515.55 2312.38 1512 Q2310.57 1508.44 2306.94 1508.44 M2306.94 1504.73 Q2312.75 1504.73 2315.8 1509.34 Q2318.88 1513.92 2318.88 1522.67 Q2318.88 1531.4 2315.8 1536.01 Q2312.75 1540.59 2306.94 1540.59 Q2301.13 1540.59 2298.05 1536.01 Q2294.99 1531.4 2294.99 1522.67 Q2294.99 1513.92 2298.05 1509.34 Q2301.13 1504.73 2306.94 1504.73 Z\" fill=\"#000000\" fill-rule=\"evenodd\" fill-opacity=\"1\" /><path clip-path=\"url(#clip060)\" d=\"M 0 0 M103.247 1455.65 Q99.6354 1455.65 97.8068 1459.22 Q96.0012 1462.76 96.0012 1469.89 Q96.0012 1477 97.8068 1480.56 Q99.6354 1484.1 103.247 1484.1 Q106.881 1484.1 108.686 1480.56 Q110.515 1477 110.515 1469.89 Q110.515 1462.76 108.686 1459.22 Q106.881 1455.65 103.247 1455.65 M103.247 1451.95 Q109.057 1451.95 112.112 1456.56 Q115.191 1461.14 115.191 1469.89 Q115.191 1478.62 112.112 1483.22 Q109.057 1487.81 103.247 1487.81 Q97.4364 1487.81 94.3577 1483.22 Q91.3022 1478.62 91.3022 1469.89 Q91.3022 1461.14 94.3577 1456.56 Q97.4364 1451.95 103.247 1451.95 Z\" fill=\"#000000\" fill-rule=\"evenodd\" fill-opacity=\"1\" /><path clip-path=\"url(#clip060)\" d=\"M 0 0 M68.2699 1241.8 L75.9087 1241.8 L75.9087 1215.44 L67.5986 1217.1 L67.5986 1212.84 L75.8624 1211.18 L80.5383 1211.18 L80.5383 1241.8 L88.1772 1241.8 L88.1772 1245.74 L68.2699 1245.74 L68.2699 1241.8 Z\" fill=\"#000000\" fill-rule=\"evenodd\" fill-opacity=\"1\" /><path clip-path=\"url(#clip060)\" d=\"M 0 0 M103.247 1214.26 Q99.6354 1214.26 97.8068 1217.82 Q96.0012 1221.36 96.0012 1228.49 Q96.0012 1235.6 97.8068 1239.16 Q99.6354 1242.71 103.247 1242.71 Q106.881 1242.71 108.686 1239.16 Q110.515 1235.6 110.515 1228.49 Q110.515 1221.36 108.686 1217.82 Q106.881 1214.26 103.247 1214.26 M103.247 1210.55 Q109.057 1210.55 112.112 1215.16 Q115.191 1219.74 115.191 1228.49 Q115.191 1237.22 112.112 1241.83 Q109.057 1246.41 103.247 1246.41 Q97.4364 1246.41 94.3577 1241.83 Q91.3022 1237.22 91.3022 1228.49 Q91.3022 1219.74 94.3577 1215.16 Q97.4364 1210.55 103.247 1210.55 Z\" fill=\"#000000\" fill-rule=\"evenodd\" fill-opacity=\"1\" /><path clip-path=\"url(#clip060)\" d=\"M 0 0 M71.8578 1000.41 L88.1772 1000.41 L88.1772 1004.34 L66.2328 1004.34 L66.2328 1000.41 Q68.8949 997.651 73.4782 993.021 Q78.0846 988.368 79.2652 987.026 Q81.5105 984.503 82.3902 982.767 Q83.2929 981.007 83.2929 979.318 Q83.2929 976.563 81.3485 974.827 Q79.4272 973.091 76.3254 973.091 Q74.1263 973.091 71.6726 973.855 Q69.2421 974.618 66.4643 976.169 L66.4643 971.447 Q69.2884 970.313 71.7421 969.734 Q74.1958 969.156 76.2328 969.156 Q81.6031 969.156 84.7976 971.841 Q87.992 974.526 87.992 979.017 Q87.992 981.146 87.1818 983.068 Q86.3948 984.966 84.2883 987.558 Q83.7096 988.23 80.6078 991.447 Q77.5059 994.642 71.8578 1000.41 Z\" fill=\"#000000\" fill-rule=\"evenodd\" fill-opacity=\"1\" /><path clip-path=\"url(#clip060)\" d=\"M 0 0 M103.247 972.859 Q99.6354 972.859 97.8068 976.424 Q96.0012 979.966 96.0012 987.095 Q96.0012 994.202 97.8068 997.767 Q99.6354 1001.31 103.247 1001.31 Q106.881 1001.31 108.686 997.767 Q110.515 994.202 110.515 987.095 Q110.515 979.966 108.686 976.424 Q106.881 972.859 103.247 972.859 M103.247 969.156 Q109.057 969.156 112.112 973.762 Q115.191 978.345 115.191 987.095 Q115.191 995.822 112.112 1000.43 Q109.057 1005.01 103.247 1005.01 Q97.4364 1005.01 94.3577 1000.43 Q91.3022 995.822 91.3022 987.095 Q91.3022 978.345 94.3577 973.762 Q97.4364 969.156 103.247 969.156 Z\" fill=\"#000000\" fill-rule=\"evenodd\" fill-opacity=\"1\" /><path clip-path=\"url(#clip060)\" d=\"M 0 0 M81.0476 744.309 Q84.404 745.026 86.279 747.295 Q88.1772 749.563 88.1772 752.897 Q88.1772 758.012 84.6587 760.813 Q81.1402 763.614 74.6587 763.614 Q72.4828 763.614 70.168 763.174 Q67.8764 762.758 65.4227 761.901 L65.4227 757.387 Q67.3671 758.522 69.6819 759.1 Q71.9967 759.679 74.5198 759.679 Q78.918 759.679 81.2096 757.943 Q83.5244 756.207 83.5244 752.897 Q83.5244 749.841 81.3717 748.128 Q79.242 746.392 75.4226 746.392 L71.3949 746.392 L71.3949 742.55 L75.6078 742.55 Q79.0569 742.55 80.8855 741.184 Q82.7142 739.795 82.7142 737.202 Q82.7142 734.54 80.8161 733.128 Q78.9411 731.693 75.4226 731.693 Q73.5013 731.693 71.3023 732.11 Q69.1032 732.526 66.4643 733.406 L66.4643 729.239 Q69.1264 728.499 71.4412 728.128 Q73.7791 727.758 75.8393 727.758 Q81.1633 727.758 84.2652 730.188 Q87.367 732.596 87.367 736.716 Q87.367 739.587 85.7235 741.577 Q84.08 743.545 81.0476 744.309 Z\" fill=\"#000000\" fill-rule=\"evenodd\" fill-opacity=\"1\" /><path clip-path=\"url(#clip060)\" d=\"M 0 0 M103.247 731.462 Q99.6354 731.462 97.8068 735.026 Q96.0012 738.568 96.0012 745.698 Q96.0012 752.804 97.8068 756.369 Q99.6354 759.911 103.247 759.911 Q106.881 759.911 108.686 756.369 Q110.515 752.804 110.515 745.698 Q110.515 738.568 108.686 735.026 Q106.881 731.462 103.247 731.462 M103.247 727.758 Q109.057 727.758 112.112 732.364 Q115.191 736.948 115.191 745.698 Q115.191 754.424 112.112 759.031 Q109.057 763.614 103.247 763.614 Q97.4364 763.614 94.3577 759.031 Q91.3022 754.424 91.3022 745.698 Q91.3022 736.948 94.3577 732.364 Q97.4364 727.758 103.247 727.758 Z\" fill=\"#000000\" fill-rule=\"evenodd\" fill-opacity=\"1\" /><path clip-path=\"url(#clip060)\" d=\"M 0 0 M78.5939 491.059 L66.7884 509.508 L78.5939 509.508 L78.5939 491.059 M77.367 486.985 L83.2466 486.985 L83.2466 509.508 L88.1772 509.508 L88.1772 513.397 L83.2466 513.397 L83.2466 521.545 L78.5939 521.545 L78.5939 513.397 L62.9921 513.397 L62.9921 508.883 L77.367 486.985 Z\" fill=\"#000000\" fill-rule=\"evenodd\" fill-opacity=\"1\" /><path clip-path=\"url(#clip060)\" d=\"M 0 0 M103.247 490.064 Q99.6354 490.064 97.8068 493.629 Q96.0012 497.17 96.0012 504.3 Q96.0012 511.407 97.8068 514.971 Q99.6354 518.513 103.247 518.513 Q106.881 518.513 108.686 514.971 Q110.515 511.407 110.515 504.3 Q110.515 497.17 108.686 493.629 Q106.881 490.064 103.247 490.064 M103.247 486.36 Q109.057 486.36 112.112 490.967 Q115.191 495.55 115.191 504.3 Q115.191 513.027 112.112 517.633 Q109.057 522.217 103.247 522.217 Q97.4364 522.217 94.3577 517.633 Q91.3022 513.027 91.3022 504.3 Q91.3022 495.55 94.3577 490.967 Q97.4364 486.36 103.247 486.36 Z\" fill=\"#000000\" fill-rule=\"evenodd\" fill-opacity=\"1\" /><path clip-path=\"url(#clip060)\" d=\"M 0 0 M67.2745 245.588 L85.6309 245.588 L85.6309 249.523 L71.5569 249.523 L71.5569 257.995 Q72.5754 257.648 73.5939 257.486 Q74.6124 257.301 75.6309 257.301 Q81.418 257.301 84.7976 260.472 Q88.1772 263.643 88.1772 269.06 Q88.1772 274.639 84.705 277.74 Q81.2328 280.819 74.9134 280.819 Q72.7374 280.819 70.4689 280.449 Q68.2236 280.078 65.8162 279.338 L65.8162 274.639 Q67.8995 275.773 70.1217 276.328 Q72.3439 276.884 74.8208 276.884 Q78.8254 276.884 81.1633 274.777 Q83.5013 272.671 83.5013 269.06 Q83.5013 265.449 81.1633 263.342 Q78.8254 261.236 74.8208 261.236 Q72.9458 261.236 71.0708 261.652 Q69.2189 262.069 67.2745 262.949 L67.2745 245.588 Z\" fill=\"#000000\" fill-rule=\"evenodd\" fill-opacity=\"1\" /><path clip-path=\"url(#clip060)\" d=\"M 0 0 M103.247 248.666 Q99.6354 248.666 97.8068 252.231 Q96.0012 255.773 96.0012 262.902 Q96.0012 270.009 97.8068 273.574 Q99.6354 277.115 103.247 277.115 Q106.881 277.115 108.686 273.574 Q110.515 270.009 110.515 262.902 Q110.515 255.773 108.686 252.231 Q106.881 248.666 103.247 248.666 M103.247 244.963 Q109.057 244.963 112.112 249.569 Q115.191 254.153 115.191 262.902 Q115.191 271.629 112.112 276.236 Q109.057 280.819 103.247 280.819 Q97.4364 280.819 94.3577 276.236 Q91.3022 271.629 91.3022 262.902 Q91.3022 254.153 94.3577 249.569 Q97.4364 244.963 103.247 244.963 Z\" fill=\"#000000\" fill-rule=\"evenodd\" fill-opacity=\"1\" /><polyline clip-path=\"url(#clip062)\" style=\"stroke:#009af9; stroke-width:4; stroke-opacity:1; fill:none\" points=\"\n",
       "  201.998,87.9763 202.158,492.682 202.317,671.966 202.476,778.837 202.636,851.766 202.795,905.598 202.954,947.435 203.114,981.157 203.273,1009.09 203.432,1032.72 \n",
       "  203.592,1053.04 203.751,1070.77 204.07,1100.35 204.388,1124.19 204.707,1143.93 205.025,1160.63 205.344,1175 205.663,1187.53 206.3,1208.44 206.937,1225.28 \n",
       "  207.575,1239.23 208.212,1251.04 208.849,1261.19 209.487,1270.04 210.761,1284.81 212.036,1296.7 213.31,1306.56 214.585,1314.89 215.86,1322.06 217.134,1328.3 \n",
       "  218.409,1333.82 219.683,1338.72 220.958,1343.13 222.233,1347.12 228.125,1361.59 234.018,1371.87 239.911,1379.64 245.804,1385.78 257.589,1394.98 269.375,1401.63 \n",
       "  292.946,1410.77 316.517,1416.87 340.088,1421.31 363.659,1424.71 387.23,1427.42 410.801,1429.63 439.132,1431.82 467.462,1433.63 495.793,1435.15 524.123,1436.45 \n",
       "  572.03,1438.25 619.936,1439.69 724.015,1441.98 819.966,1443.42 922.837,1444.47 1042.02,1445.24 1147.94,1445.61 1240.82,1445.72 1342.08,1445.61 1443.95,1445.27 \n",
       "  1556.58,1444.57 1663.74,1443.52 1775.16,1441.85 1868.96,1439.78 1926.21,1438.04 1983.47,1435.75 2010.38,1434.42 2037.29,1432.85 2064.2,1431 2091.11,1428.75 \n",
       "  2112.67,1426.57 2134.23,1423.93 2155.78,1420.66 2177.34,1416.45 2198.9,1410.8 2220.45,1402.64 2231.23,1396.94 2242.01,1389.39 2252.79,1378.75 2263.57,1362.1 \n",
       "  2265.23,1358.62 2266.89,1354.76 2268.54,1350.46 2270.2,1345.64 2271.86,1340.16 2273.52,1333.89 2275.18,1326.59 2276.84,1317.96 2278.5,1307.54 2280.16,1294.6 \n",
       "  2280.98,1286.85 2281.81,1277.95 2282.64,1267.61 2283.47,1255.39 2284.3,1240.62 2285.13,1222.31 2285.55,1211.32 2285.96,1198.73 2286.38,1184.1 2286.79,1166.79 \n",
       "  2287.21,1145.9 2287.62,1119.98 2287.83,1104.44 2288.03,1086.62 2288.24,1065.91 2288.45,1041.43 2288.66,1011.87 2288.86,975.199 2289.07,928.014 2289.28,864.088 \n",
       "  2289.49,770.41 2289.69,613.256 2289.9,258.501 \n",
       "  \"/>\n",
       "<path clip-path=\"url(#clip060)\" d=\"\n",
       "M1989.74 251.724 L2280.76 251.724 L2280.76 130.764 L1989.74 130.764  Z\n",
       "  \" fill=\"#ffffff\" fill-rule=\"evenodd\" fill-opacity=\"1\"/>\n",
       "<polyline clip-path=\"url(#clip060)\" style=\"stroke:#000000; stroke-width:4; stroke-opacity:1; fill:none\" points=\"\n",
       "  1989.74,251.724 2280.76,251.724 2280.76,130.764 1989.74,130.764 1989.74,251.724 \n",
       "  \"/>\n",
       "<polyline clip-path=\"url(#clip060)\" style=\"stroke:#009af9; stroke-width:4; stroke-opacity:1; fill:none\" points=\"\n",
       "  2013.74,191.244 2157.74,191.244 \n",
       "  \"/>\n",
       "<path clip-path=\"url(#clip060)\" d=\"M 0 0 M2195.58 210.931 Q2193.77 215.561 2192.06 216.973 Q2190.35 218.385 2187.48 218.385 L2184.08 218.385 L2184.08 214.82 L2186.58 214.82 Q2188.33 214.82 2189.31 213.987 Q2190.28 213.154 2191.46 210.052 L2192.22 208.107 L2181.74 182.598 L2186.25 182.598 L2194.35 202.876 L2202.46 182.598 L2206.97 182.598 L2195.58 210.931 Z\" fill=\"#000000\" fill-rule=\"evenodd\" fill-opacity=\"1\" /><path clip-path=\"url(#clip060)\" d=\"M 0 0 M2212.85 204.589 L2220.49 204.589 L2220.49 178.223 L2212.18 179.89 L2212.18 175.631 L2220.44 173.964 L2225.12 173.964 L2225.12 204.589 L2232.76 204.589 L2232.76 208.524 L2212.85 208.524 L2212.85 204.589 Z\" fill=\"#000000\" fill-rule=\"evenodd\" fill-opacity=\"1\" /></svg>\n"
      ]
     },
     "execution_count": 18,
     "metadata": {},
     "output_type": "execute_result"
    }
   ],
   "source": [
    "f(x)=1/ sqrt(1-x^2)\n",
    "plot(f, -1,1)"
   ]
  },
  {
   "cell_type": "markdown",
   "metadata": {},
   "source": [
    "Sure enough, if we try using $GLR()$ with a Legendre basis $f(x)=\\sqrt{1/(1-x^2)}$ it takes more than 1000 points to get $1.0*10^{-3}$ precision... not very efficient"
   ]
  },
  {
   "cell_type": "code",
   "execution_count": 37,
   "metadata": {},
   "outputs": [
    {
     "name": "stdout",
     "output_type": "stream",
     "text": [
      "a = f(bound) - f(-bound) = 0.0\n",
      "(i, sum((f(x) * w for (x, w) = zip(xs, ws))) - a) = (1090, 3.1399957895773873)\n",
      "(i, sum((f(x) * w for (x, w) = zip(xs, ws))) - a) = (1091, 3.139997252576781)\n",
      "(i, sum((f(x) * w for (x, w) = zip(xs, ws))) - a) = (1092, 3.139998712898014)\n",
      "(i, sum((f(x) * w for (x, w) = zip(xs, ws))) - a) = (1093, 3.1400001705483676)\n",
      "(i, sum((f(x) * w for (x, w) = zip(xs, ws))) - a) = (1094, 3.1400016255350676)\n",
      "(i, sum((f(x) * w for (x, w) = zip(xs, ws))) - a) = (1095, 3.1400030778653356)\n"
     ]
    }
   ],
   "source": [
    "f(x) = 1/ sqrt(1-x^2)\n",
    "bound = 1/3+1/3+1/3.1\n",
    "MTH229.integrate(f, -bound, bound)\n",
    "@show a = f(bound)-f(-bound)\n",
    "n = 1090\n",
    "for i in n:n+5\n",
    "    xs, ws = glaser_liu_rokhlin_gauss_nodes(basis(Legendre, i))\n",
    "    @show i, sum(f(x)*w for (x,w) in zip(xs, ws)) - a\n",
    "end"
   ]
  },
  {
   "cell_type": "markdown",
   "metadata": {},
   "source": [
    "$Note_{Turns out that we can use $GLR()$ with a Chebyshev basis to help us find the roots on the above function in a more reasonable amount of time, but we that we shall leave for a different time.}$"
   ]
  },
  {
   "cell_type": "markdown",
   "metadata": {},
   "source": [
    "Gaussian Quadrature turns out to be a quite nifty tool in approximating non-polynomial functions"
   ]
  },
  {
   "cell_type": "markdown",
   "metadata": {},
   "source": [
    "This concludes our lesson on Gaussian Quadrature"
   ]
  },
  {
   "cell_type": "code",
   "execution_count": null,
   "metadata": {},
   "outputs": [],
   "source": []
  }
 ],
 "metadata": {
  "kernelspec": {
   "display_name": "Julia 1.4.2",
   "language": "julia",
   "name": "julia-1.4"
  },
  "language_info": {
   "file_extension": ".jl",
   "mimetype": "application/julia",
   "name": "julia",
   "version": "1.4.2"
  }
 },
 "nbformat": 4,
 "nbformat_minor": 2
}
